{
 "cells": [
  {
   "attachments": {},
   "cell_type": "markdown",
   "id": "84a147df",
   "metadata": {},
   "source": [
    "# AutoMM Detection - Quick Start with Foundation Model on Open Vocabulary Detection (OVD)\n",
    "\n",
    "[![Open In Colab](https://colab.research.google.com/assets/colab-badge.svg)](https://colab.research.google.com/github/autogluon/autogluon/blob/master/docs/tutorials/multimodal/object_detection/quick_start/quick_start_ovd.ipynb)\n",
    "[![Open In SageMaker Studio Lab](https://studiolab.sagemaker.aws/studiolab.svg)](https://studiolab.sagemaker.aws/import/github/autogluon/autogluon/blob/master/docs/tutorials/multimodal/object_detection/quick_start/quick_start_ovd.ipynb)\n",
    "\n",
    "\n",
    "In this section, our goal is to use a foundation model in object detection to detect novel classes defined by an unbounded (open) vocabulary.\n",
    "\n",
    "## Setting up the imports\n",
    "To start, let's import MultiModalPredictor:"
   ]
  },
  {
   "cell_type": "code",
   "execution_count": 1,
   "id": "aa00faab-252f-44c9-b8f7-57131aa8251c",
   "metadata": {
    "tags": [
     "remove-cell"
    ]
   },
   "outputs": [
    {
     "name": "stdout",
     "output_type": "stream",
     "text": [
      "Requirement already satisfied: autogluon.multimodal in /local/home/haoyfang/autogluon/multimodal/src (0.7.1b20230425)\n",
      "Requirement already satisfied: numpy<1.27,>=1.21 in /local/home/haoyfang/anaconda3/envs/det116/lib/python3.9/site-packages (from autogluon.multimodal) (1.22.4)\n",
      "Requirement already satisfied: scipy<1.12,>=1.5.4 in /local/home/haoyfang/anaconda3/envs/det116/lib/python3.9/site-packages (from autogluon.multimodal) (1.8.1)\n",
      "Requirement already satisfied: pandas<1.6,>=1.4.1 in /local/home/haoyfang/anaconda3/envs/det116/lib/python3.9/site-packages (from autogluon.multimodal) (1.5.3)\n",
      "Requirement already satisfied: scikit-learn<1.3,>=1.0 in /local/home/haoyfang/anaconda3/envs/det116/lib/python3.9/site-packages (from autogluon.multimodal) (1.1.1)\n",
      "Requirement already satisfied: Pillow<9.6,>=9.3 in /local/home/haoyfang/anaconda3/envs/det116/lib/python3.9/site-packages (from autogluon.multimodal) (9.4.0)\n",
      "Requirement already satisfied: tqdm<5,>=4.38 in /local/home/haoyfang/anaconda3/envs/det116/lib/python3.9/site-packages (from autogluon.multimodal) (4.64.1)\n",
      "Requirement already satisfied: boto3<2,>=1.10 in /local/home/haoyfang/anaconda3/envs/det116/lib/python3.9/site-packages (from autogluon.multimodal) (1.26.60)\n",
      "Requirement already satisfied: requests<3,>=2.21 in /local/home/haoyfang/anaconda3/envs/det116/lib/python3.9/site-packages (from autogluon.multimodal) (2.28.2)\n",
      "Requirement already satisfied: jsonschema<4.18,>=4.14 in /local/home/haoyfang/anaconda3/envs/det116/lib/python3.9/site-packages (from autogluon.multimodal) (4.17.3)\n",
      "Requirement already satisfied: seqeval<1.3.0,>=1.2.2 in /local/home/haoyfang/anaconda3/envs/det116/lib/python3.9/site-packages (from autogluon.multimodal) (1.2.2)\n",
      "Requirement already satisfied: evaluate<0.4.0,>=0.2.2 in /local/home/haoyfang/anaconda3/envs/det116/lib/python3.9/site-packages (from autogluon.multimodal) (0.3.0)\n",
      "Requirement already satisfied: accelerate<0.17,>=0.9 in /local/home/haoyfang/anaconda3/envs/det116/lib/python3.9/site-packages (from autogluon.multimodal) (0.15.0)\n",
      "Requirement already satisfied: timm<0.7.0,>=0.6.12 in /local/home/haoyfang/anaconda3/envs/det116/lib/python3.9/site-packages (from autogluon.multimodal) (0.6.12)\n",
      "Requirement already satisfied: torch<1.14,>=1.9 in /local/home/haoyfang/anaconda3/envs/det116/lib/python3.9/site-packages (from autogluon.multimodal) (1.12.1+cu116)\n",
      "Requirement already satisfied: torchvision<0.15.0 in /local/home/haoyfang/anaconda3/envs/det116/lib/python3.9/site-packages (from autogluon.multimodal) (0.13.1+cu116)\n",
      "Requirement already satisfied: fairscale<0.4.14,>=0.4.5 in /local/home/haoyfang/anaconda3/envs/det116/lib/python3.9/site-packages (from autogluon.multimodal) (0.4.13)\n",
      "Requirement already satisfied: scikit-image<0.20.0,>=0.19.1 in /local/home/haoyfang/anaconda3/envs/det116/lib/python3.9/site-packages (from autogluon.multimodal) (0.19.3)\n",
      "Requirement already satisfied: pytorch-lightning<1.10.0,>=1.9.0 in /local/home/haoyfang/anaconda3/envs/det116/lib/python3.9/site-packages (from autogluon.multimodal) (1.9.2)\n",
      "Requirement already satisfied: text-unidecode<1.4,>=1.3 in /local/home/haoyfang/anaconda3/envs/det116/lib/python3.9/site-packages (from autogluon.multimodal) (1.3)\n",
      "Requirement already satisfied: torchmetrics<0.12.0,>=0.11.0 in /local/home/haoyfang/anaconda3/envs/det116/lib/python3.9/site-packages (from autogluon.multimodal) (0.11.4)\n",
      "Requirement already satisfied: transformers<4.27.0,>=4.23.0 in /local/home/haoyfang/anaconda3/envs/det116/lib/python3.9/site-packages (from autogluon.multimodal) (4.25.1)\n",
      "Requirement already satisfied: nptyping<2.5.0,>=1.4.4 in /local/home/haoyfang/anaconda3/envs/det116/lib/python3.9/site-packages (from autogluon.multimodal) (1.4.4)\n",
      "Requirement already satisfied: omegaconf<2.3.0,>=2.1.1 in /local/home/haoyfang/anaconda3/envs/det116/lib/python3.9/site-packages (from autogluon.multimodal) (2.1.2)\n",
      "Requirement already satisfied: sentencepiece<0.2.0,>=0.1.95 in /local/home/haoyfang/anaconda3/envs/det116/lib/python3.9/site-packages (from autogluon.multimodal) (0.1.97)\n",
      "Requirement already satisfied: autogluon.core[raytune]==0.7.1b20230425 in /local/home/haoyfang/autogluon/core/src (from autogluon.multimodal) (0.7.1b20230425)\n",
      "Requirement already satisfied: autogluon.features==0.7.1b20230425 in /local/home/haoyfang/autogluon/features/src (from autogluon.multimodal) (0.7.1b20230425)\n",
      "Requirement already satisfied: autogluon.common==0.7.1b20230425 in /local/home/haoyfang/autogluon/common/src (from autogluon.multimodal) (0.7.1b20230425)\n",
      "Requirement already satisfied: pytorch-metric-learning<2.0,>=1.3.0 in /local/home/haoyfang/anaconda3/envs/det116/lib/python3.9/site-packages (from autogluon.multimodal) (1.3.2)\n",
      "Requirement already satisfied: nlpaug<1.2.0,>=1.1.10 in /local/home/haoyfang/anaconda3/envs/det116/lib/python3.9/site-packages (from autogluon.multimodal) (1.1.10)\n",
      "Requirement already satisfied: nltk<4.0.0,>=3.4.5 in /local/home/haoyfang/anaconda3/envs/det116/lib/python3.9/site-packages (from autogluon.multimodal) (3.8.1)\n",
      "Requirement already satisfied: openmim<0.4.0,>0.1.5 in /local/home/haoyfang/anaconda3/envs/det116/lib/python3.9/site-packages (from autogluon.multimodal) (0.2.1)\n",
      "Requirement already satisfied: defusedxml<0.7.2,>=0.7.1 in /local/home/haoyfang/anaconda3/envs/det116/lib/python3.9/site-packages (from autogluon.multimodal) (0.7.1)\n",
      "Requirement already satisfied: jinja2<3.2,>=3.0.3 in /local/home/haoyfang/anaconda3/envs/det116/lib/python3.9/site-packages (from autogluon.multimodal) (3.1.2)\n",
      "Requirement already satisfied: tensorboard<3,>=2.9 in /local/home/haoyfang/anaconda3/envs/det116/lib/python3.9/site-packages (from autogluon.multimodal) (2.11.2)\n",
      "Requirement already satisfied: pytesseract<0.3.11,>=0.3.9 in /local/home/haoyfang/anaconda3/envs/det116/lib/python3.9/site-packages (from autogluon.multimodal) (0.3.10)\n",
      "Requirement already satisfied: PyMuPDF<=1.21.1 in /local/home/haoyfang/anaconda3/envs/det116/lib/python3.9/site-packages (from autogluon.multimodal) (1.21.1)\n",
      "Requirement already satisfied: psutil<6,>=5.7.3 in /local/home/haoyfang/anaconda3/envs/det116/lib/python3.9/site-packages (from autogluon.common==0.7.1b20230425->autogluon.multimodal) (5.9.4)\n",
      "Requirement already satisfied: setuptools in /local/home/haoyfang/anaconda3/envs/det116/lib/python3.9/site-packages (from autogluon.common==0.7.1b20230425->autogluon.multimodal) (65.6.3)\n",
      "Requirement already satisfied: networkx<3.0,>=2.3 in /local/home/haoyfang/anaconda3/envs/det116/lib/python3.9/site-packages (from autogluon.core[raytune]==0.7.1b20230425->autogluon.multimodal) (2.8.8)\n",
      "Requirement already satisfied: matplotlib in /local/home/haoyfang/anaconda3/envs/det116/lib/python3.9/site-packages (from autogluon.core[raytune]==0.7.1b20230425->autogluon.multimodal) (3.6.3)\n",
      "Requirement already satisfied: ray[tune]<2.4,>=2.3 in /local/home/haoyfang/anaconda3/envs/det116/lib/python3.9/site-packages (from autogluon.core[raytune]==0.7.1b20230425->autogluon.multimodal) (2.3.1)\n",
      "Requirement already satisfied: hyperopt<0.2.8,>=0.2.7 in /local/home/haoyfang/anaconda3/envs/det116/lib/python3.9/site-packages (from autogluon.core[raytune]==0.7.1b20230425->autogluon.multimodal) (0.2.7)\n",
      "Requirement already satisfied: pyyaml in /local/home/haoyfang/anaconda3/envs/det116/lib/python3.9/site-packages (from accelerate<0.17,>=0.9->autogluon.multimodal) (6.0)\n",
      "Requirement already satisfied: packaging>=20.0 in /local/home/haoyfang/anaconda3/envs/det116/lib/python3.9/site-packages (from accelerate<0.17,>=0.9->autogluon.multimodal) (23.0)\n",
      "Requirement already satisfied: botocore<1.30.0,>=1.29.60 in /local/home/haoyfang/anaconda3/envs/det116/lib/python3.9/site-packages (from boto3<2,>=1.10->autogluon.multimodal) (1.29.60)\n",
      "Requirement already satisfied: jmespath<2.0.0,>=0.7.1 in /local/home/haoyfang/anaconda3/envs/det116/lib/python3.9/site-packages (from boto3<2,>=1.10->autogluon.multimodal) (1.0.1)\n",
      "Requirement already satisfied: s3transfer<0.7.0,>=0.6.0 in /local/home/haoyfang/anaconda3/envs/det116/lib/python3.9/site-packages (from boto3<2,>=1.10->autogluon.multimodal) (0.6.0)\n",
      "Requirement already satisfied: multiprocess in /local/home/haoyfang/anaconda3/envs/det116/lib/python3.9/site-packages (from evaluate<0.4.0,>=0.2.2->autogluon.multimodal) (0.70.13)\n",
      "Requirement already satisfied: fsspec[http]>=2021.05.0 in /local/home/haoyfang/anaconda3/envs/det116/lib/python3.9/site-packages (from evaluate<0.4.0,>=0.2.2->autogluon.multimodal) (2023.1.0)\n",
      "Requirement already satisfied: responses<0.19 in /local/home/haoyfang/anaconda3/envs/det116/lib/python3.9/site-packages (from evaluate<0.4.0,>=0.2.2->autogluon.multimodal) (0.18.0)\n",
      "Requirement already satisfied: dill in /local/home/haoyfang/anaconda3/envs/det116/lib/python3.9/site-packages (from evaluate<0.4.0,>=0.2.2->autogluon.multimodal) (0.3.5.1)\n",
      "Requirement already satisfied: huggingface-hub>=0.7.0 in /local/home/haoyfang/anaconda3/envs/det116/lib/python3.9/site-packages (from evaluate<0.4.0,>=0.2.2->autogluon.multimodal) (0.12.0)\n",
      "Requirement already satisfied: datasets>=2.0.0 in /local/home/haoyfang/anaconda3/envs/det116/lib/python3.9/site-packages (from evaluate<0.4.0,>=0.2.2->autogluon.multimodal) (2.3.2)\n",
      "Requirement already satisfied: xxhash in /local/home/haoyfang/anaconda3/envs/det116/lib/python3.9/site-packages (from evaluate<0.4.0,>=0.2.2->autogluon.multimodal) (3.2.0)\n",
      "Requirement already satisfied: MarkupSafe>=2.0 in /local/home/haoyfang/anaconda3/envs/det116/lib/python3.9/site-packages (from jinja2<3.2,>=3.0.3->autogluon.multimodal) (2.1.2)\n",
      "Requirement already satisfied: attrs>=17.4.0 in /local/home/haoyfang/anaconda3/envs/det116/lib/python3.9/site-packages (from jsonschema<4.18,>=4.14->autogluon.multimodal) (22.2.0)\n",
      "Requirement already satisfied: pyrsistent!=0.17.0,!=0.17.1,!=0.17.2,>=0.14.0 in /local/home/haoyfang/anaconda3/envs/det116/lib/python3.9/site-packages (from jsonschema<4.18,>=4.14->autogluon.multimodal) (0.19.3)\n",
      "Requirement already satisfied: click in /local/home/haoyfang/anaconda3/envs/det116/lib/python3.9/site-packages (from nltk<4.0.0,>=3.4.5->autogluon.multimodal) (8.1.3)\n",
      "Requirement already satisfied: regex>=2021.8.3 in /local/home/haoyfang/anaconda3/envs/det116/lib/python3.9/site-packages (from nltk<4.0.0,>=3.4.5->autogluon.multimodal) (2022.10.31)\n",
      "Requirement already satisfied: joblib in /local/home/haoyfang/anaconda3/envs/det116/lib/python3.9/site-packages (from nltk<4.0.0,>=3.4.5->autogluon.multimodal) (1.2.0)\n",
      "Requirement already satisfied: typish>=1.7.0 in /local/home/haoyfang/anaconda3/envs/det116/lib/python3.9/site-packages (from nptyping<2.5.0,>=1.4.4->autogluon.multimodal) (1.9.3)\n",
      "Requirement already satisfied: antlr4-python3-runtime==4.8 in /local/home/haoyfang/anaconda3/envs/det116/lib/python3.9/site-packages (from omegaconf<2.3.0,>=2.1.1->autogluon.multimodal) (4.8)\n",
      "Requirement already satisfied: tabulate in /local/home/haoyfang/anaconda3/envs/det116/lib/python3.9/site-packages (from openmim<0.4.0,>0.1.5->autogluon.multimodal) (0.9.0)\n",
      "Requirement already satisfied: rich in /local/home/haoyfang/anaconda3/envs/det116/lib/python3.9/site-packages (from openmim<0.4.0,>0.1.5->autogluon.multimodal) (13.3.1)\n",
      "Requirement already satisfied: colorama in /local/home/haoyfang/anaconda3/envs/det116/lib/python3.9/site-packages (from openmim<0.4.0,>0.1.5->autogluon.multimodal) (0.4.6)\n",
      "Requirement already satisfied: model-index in /local/home/haoyfang/anaconda3/envs/det116/lib/python3.9/site-packages (from openmim<0.4.0,>0.1.5->autogluon.multimodal) (0.1.11)\n",
      "Requirement already satisfied: pip>=19.3 in /local/home/haoyfang/anaconda3/envs/det116/lib/python3.9/site-packages (from openmim<0.4.0,>0.1.5->autogluon.multimodal) (22.3.1)\n",
      "Requirement already satisfied: python-dateutil>=2.8.1 in /local/home/haoyfang/anaconda3/envs/det116/lib/python3.9/site-packages (from pandas<1.6,>=1.4.1->autogluon.multimodal) (2.8.2)\n",
      "Requirement already satisfied: pytz>=2020.1 in /local/home/haoyfang/anaconda3/envs/det116/lib/python3.9/site-packages (from pandas<1.6,>=1.4.1->autogluon.multimodal) (2022.7.1)\n",
      "Requirement already satisfied: typing-extensions>=4.0.0 in /local/home/haoyfang/anaconda3/envs/det116/lib/python3.9/site-packages (from pytorch-lightning<1.10.0,>=1.9.0->autogluon.multimodal) (4.4.0)\n",
      "Requirement already satisfied: lightning-utilities>=0.6.0.post0 in /local/home/haoyfang/anaconda3/envs/det116/lib/python3.9/site-packages (from pytorch-lightning<1.10.0,>=1.9.0->autogluon.multimodal) (0.6.0.post0)\n",
      "Requirement already satisfied: charset-normalizer<4,>=2 in /local/home/haoyfang/anaconda3/envs/det116/lib/python3.9/site-packages (from requests<3,>=2.21->autogluon.multimodal) (2.1.1)\n",
      "Requirement already satisfied: urllib3<1.27,>=1.21.1 in /local/home/haoyfang/anaconda3/envs/det116/lib/python3.9/site-packages (from requests<3,>=2.21->autogluon.multimodal) (1.26.14)\n",
      "Requirement already satisfied: certifi>=2017.4.17 in /local/home/haoyfang/anaconda3/envs/det116/lib/python3.9/site-packages (from requests<3,>=2.21->autogluon.multimodal) (2022.12.7)\n",
      "Requirement already satisfied: idna<4,>=2.5 in /local/home/haoyfang/anaconda3/envs/det116/lib/python3.9/site-packages (from requests<3,>=2.21->autogluon.multimodal) (3.4)\n",
      "Requirement already satisfied: imageio>=2.4.1 in /local/home/haoyfang/anaconda3/envs/det116/lib/python3.9/site-packages (from scikit-image<0.20.0,>=0.19.1->autogluon.multimodal) (2.25.0)\n",
      "Requirement already satisfied: tifffile>=2019.7.26 in /local/home/haoyfang/anaconda3/envs/det116/lib/python3.9/site-packages (from scikit-image<0.20.0,>=0.19.1->autogluon.multimodal) (2023.1.23.1)\n",
      "Requirement already satisfied: PyWavelets>=1.1.1 in /local/home/haoyfang/anaconda3/envs/det116/lib/python3.9/site-packages (from scikit-image<0.20.0,>=0.19.1->autogluon.multimodal) (1.4.1)\n",
      "Requirement already satisfied: threadpoolctl>=2.0.0 in /local/home/haoyfang/anaconda3/envs/det116/lib/python3.9/site-packages (from scikit-learn<1.3,>=1.0->autogluon.multimodal) (3.1.0)\n",
      "Requirement already satisfied: google-auth<3,>=1.6.3 in /local/home/haoyfang/anaconda3/envs/det116/lib/python3.9/site-packages (from tensorboard<3,>=2.9->autogluon.multimodal) (2.16.0)\n",
      "Requirement already satisfied: google-auth-oauthlib<0.5,>=0.4.1 in /local/home/haoyfang/anaconda3/envs/det116/lib/python3.9/site-packages (from tensorboard<3,>=2.9->autogluon.multimodal) (0.4.6)\n",
      "Requirement already satisfied: absl-py>=0.4 in /local/home/haoyfang/anaconda3/envs/det116/lib/python3.9/site-packages (from tensorboard<3,>=2.9->autogluon.multimodal) (1.4.0)\n",
      "Requirement already satisfied: grpcio>=1.24.3 in /local/home/haoyfang/anaconda3/envs/det116/lib/python3.9/site-packages (from tensorboard<3,>=2.9->autogluon.multimodal) (1.51.1)\n",
      "Requirement already satisfied: werkzeug>=1.0.1 in /local/home/haoyfang/anaconda3/envs/det116/lib/python3.9/site-packages (from tensorboard<3,>=2.9->autogluon.multimodal) (2.2.2)\n",
      "Requirement already satisfied: tensorboard-data-server<0.7.0,>=0.6.0 in /local/home/haoyfang/anaconda3/envs/det116/lib/python3.9/site-packages (from tensorboard<3,>=2.9->autogluon.multimodal) (0.6.1)\n",
      "Requirement already satisfied: tensorboard-plugin-wit>=1.6.0 in /local/home/haoyfang/anaconda3/envs/det116/lib/python3.9/site-packages (from tensorboard<3,>=2.9->autogluon.multimodal) (1.8.1)\n",
      "Requirement already satisfied: markdown>=2.6.8 in /local/home/haoyfang/anaconda3/envs/det116/lib/python3.9/site-packages (from tensorboard<3,>=2.9->autogluon.multimodal) (3.4.1)\n",
      "Requirement already satisfied: protobuf<4,>=3.9.2 in /local/home/haoyfang/anaconda3/envs/det116/lib/python3.9/site-packages (from tensorboard<3,>=2.9->autogluon.multimodal) (3.20.3)\n",
      "Requirement already satisfied: wheel>=0.26 in /local/home/haoyfang/anaconda3/envs/det116/lib/python3.9/site-packages (from tensorboard<3,>=2.9->autogluon.multimodal) (0.37.1)\n",
      "Requirement already satisfied: filelock in /local/home/haoyfang/anaconda3/envs/det116/lib/python3.9/site-packages (from transformers<4.27.0,>=4.23.0->autogluon.multimodal) (3.9.0)\n",
      "Requirement already satisfied: tokenizers!=0.11.3,<0.14,>=0.11.1 in /local/home/haoyfang/anaconda3/envs/det116/lib/python3.9/site-packages (from transformers<4.27.0,>=4.23.0->autogluon.multimodal) (0.13.2)\n",
      "Requirement already satisfied: pyarrow>=6.0.0 in /local/home/haoyfang/anaconda3/envs/det116/lib/python3.9/site-packages (from datasets>=2.0.0->evaluate<0.4.0,>=0.2.2->autogluon.multimodal) (11.0.0)\n",
      "Requirement already satisfied: aiohttp in /local/home/haoyfang/anaconda3/envs/det116/lib/python3.9/site-packages (from datasets>=2.0.0->evaluate<0.4.0,>=0.2.2->autogluon.multimodal) (3.8.3)\n",
      "Requirement already satisfied: cachetools<6.0,>=2.0.0 in /local/home/haoyfang/anaconda3/envs/det116/lib/python3.9/site-packages (from google-auth<3,>=1.6.3->tensorboard<3,>=2.9->autogluon.multimodal) (5.3.0)\n",
      "Requirement already satisfied: pyasn1-modules>=0.2.1 in /local/home/haoyfang/anaconda3/envs/det116/lib/python3.9/site-packages (from google-auth<3,>=1.6.3->tensorboard<3,>=2.9->autogluon.multimodal) (0.2.8)\n",
      "Requirement already satisfied: six>=1.9.0 in /local/home/haoyfang/anaconda3/envs/det116/lib/python3.9/site-packages (from google-auth<3,>=1.6.3->tensorboard<3,>=2.9->autogluon.multimodal) (1.16.0)\n",
      "Requirement already satisfied: rsa<5,>=3.1.4 in /local/home/haoyfang/anaconda3/envs/det116/lib/python3.9/site-packages (from google-auth<3,>=1.6.3->tensorboard<3,>=2.9->autogluon.multimodal) (4.9)\n",
      "Requirement already satisfied: requests-oauthlib>=0.7.0 in /local/home/haoyfang/anaconda3/envs/det116/lib/python3.9/site-packages (from google-auth-oauthlib<0.5,>=0.4.1->tensorboard<3,>=2.9->autogluon.multimodal) (1.3.1)\n",
      "Requirement already satisfied: py4j in /local/home/haoyfang/anaconda3/envs/det116/lib/python3.9/site-packages (from hyperopt<0.2.8,>=0.2.7->autogluon.core[raytune]==0.7.1b20230425->autogluon.multimodal) (0.10.9.7)\n",
      "Requirement already satisfied: future in /local/home/haoyfang/anaconda3/envs/det116/lib/python3.9/site-packages (from hyperopt<0.2.8,>=0.2.7->autogluon.core[raytune]==0.7.1b20230425->autogluon.multimodal) (0.18.3)\n",
      "Requirement already satisfied: cloudpickle in /local/home/haoyfang/anaconda3/envs/det116/lib/python3.9/site-packages (from hyperopt<0.2.8,>=0.2.7->autogluon.core[raytune]==0.7.1b20230425->autogluon.multimodal) (2.2.1)\n",
      "Requirement already satisfied: importlib-metadata>=4.4 in /local/home/haoyfang/anaconda3/envs/det116/lib/python3.9/site-packages (from markdown>=2.6.8->tensorboard<3,>=2.9->autogluon.multimodal) (6.0.0)\n",
      "Requirement already satisfied: aiosignal in /local/home/haoyfang/anaconda3/envs/det116/lib/python3.9/site-packages (from ray[tune]<2.4,>=2.3->autogluon.core[raytune]==0.7.1b20230425->autogluon.multimodal) (1.3.1)\n",
      "Requirement already satisfied: frozenlist in /local/home/haoyfang/anaconda3/envs/det116/lib/python3.9/site-packages (from ray[tune]<2.4,>=2.3->autogluon.core[raytune]==0.7.1b20230425->autogluon.multimodal) (1.3.3)\n",
      "Requirement already satisfied: msgpack<2.0.0,>=1.0.0 in /local/home/haoyfang/anaconda3/envs/det116/lib/python3.9/site-packages (from ray[tune]<2.4,>=2.3->autogluon.core[raytune]==0.7.1b20230425->autogluon.multimodal) (1.0.4)\n",
      "Requirement already satisfied: virtualenv>=20.0.24 in /local/home/haoyfang/anaconda3/envs/det116/lib/python3.9/site-packages (from ray[tune]<2.4,>=2.3->autogluon.core[raytune]==0.7.1b20230425->autogluon.multimodal) (20.17.1)\n",
      "Requirement already satisfied: tensorboardX>=1.9 in /local/home/haoyfang/anaconda3/envs/det116/lib/python3.9/site-packages (from ray[tune]<2.4,>=2.3->autogluon.core[raytune]==0.7.1b20230425->autogluon.multimodal) (2.5)\n",
      "Requirement already satisfied: contourpy>=1.0.1 in /local/home/haoyfang/anaconda3/envs/det116/lib/python3.9/site-packages (from matplotlib->autogluon.core[raytune]==0.7.1b20230425->autogluon.multimodal) (1.0.7)\n",
      "Requirement already satisfied: fonttools>=4.22.0 in /local/home/haoyfang/anaconda3/envs/det116/lib/python3.9/site-packages (from matplotlib->autogluon.core[raytune]==0.7.1b20230425->autogluon.multimodal) (4.38.0)\n",
      "Requirement already satisfied: kiwisolver>=1.0.1 in /local/home/haoyfang/anaconda3/envs/det116/lib/python3.9/site-packages (from matplotlib->autogluon.core[raytune]==0.7.1b20230425->autogluon.multimodal) (1.4.4)\n",
      "Requirement already satisfied: pyparsing>=2.2.1 in /local/home/haoyfang/anaconda3/envs/det116/lib/python3.9/site-packages (from matplotlib->autogluon.core[raytune]==0.7.1b20230425->autogluon.multimodal) (3.0.9)\n",
      "Requirement already satisfied: cycler>=0.10 in /local/home/haoyfang/anaconda3/envs/det116/lib/python3.9/site-packages (from matplotlib->autogluon.core[raytune]==0.7.1b20230425->autogluon.multimodal) (0.11.0)\n",
      "Requirement already satisfied: ordered-set in /local/home/haoyfang/anaconda3/envs/det116/lib/python3.9/site-packages (from model-index->openmim<0.4.0,>0.1.5->autogluon.multimodal) (4.1.0)\n",
      "Requirement already satisfied: pygments<3.0.0,>=2.14.0 in /local/home/haoyfang/anaconda3/envs/det116/lib/python3.9/site-packages (from rich->openmim<0.4.0,>0.1.5->autogluon.multimodal) (2.14.0)\n",
      "Requirement already satisfied: markdown-it-py<3.0.0,>=2.1.0 in /local/home/haoyfang/anaconda3/envs/det116/lib/python3.9/site-packages (from rich->openmim<0.4.0,>0.1.5->autogluon.multimodal) (2.1.0)\n",
      "Requirement already satisfied: multidict<7.0,>=4.5 in /local/home/haoyfang/anaconda3/envs/det116/lib/python3.9/site-packages (from aiohttp->datasets>=2.0.0->evaluate<0.4.0,>=0.2.2->autogluon.multimodal) (6.0.4)\n",
      "Requirement already satisfied: yarl<2.0,>=1.0 in /local/home/haoyfang/anaconda3/envs/det116/lib/python3.9/site-packages (from aiohttp->datasets>=2.0.0->evaluate<0.4.0,>=0.2.2->autogluon.multimodal) (1.8.2)\n",
      "Requirement already satisfied: async-timeout<5.0,>=4.0.0a3 in /local/home/haoyfang/anaconda3/envs/det116/lib/python3.9/site-packages (from aiohttp->datasets>=2.0.0->evaluate<0.4.0,>=0.2.2->autogluon.multimodal) (4.0.2)\n",
      "Requirement already satisfied: zipp>=0.5 in /local/home/haoyfang/anaconda3/envs/det116/lib/python3.9/site-packages (from importlib-metadata>=4.4->markdown>=2.6.8->tensorboard<3,>=2.9->autogluon.multimodal) (3.12.0)\n",
      "Requirement already satisfied: mdurl~=0.1 in /local/home/haoyfang/anaconda3/envs/det116/lib/python3.9/site-packages (from markdown-it-py<3.0.0,>=2.1.0->rich->openmim<0.4.0,>0.1.5->autogluon.multimodal) (0.1.2)\n",
      "Requirement already satisfied: pyasn1<0.5.0,>=0.4.6 in /local/home/haoyfang/anaconda3/envs/det116/lib/python3.9/site-packages (from pyasn1-modules>=0.2.1->google-auth<3,>=1.6.3->tensorboard<3,>=2.9->autogluon.multimodal) (0.4.8)\n",
      "Requirement already satisfied: oauthlib>=3.0.0 in /local/home/haoyfang/anaconda3/envs/det116/lib/python3.9/site-packages (from requests-oauthlib>=0.7.0->google-auth-oauthlib<0.5,>=0.4.1->tensorboard<3,>=2.9->autogluon.multimodal) (3.2.2)\n",
      "Requirement already satisfied: distlib<1,>=0.3.6 in /local/home/haoyfang/anaconda3/envs/det116/lib/python3.9/site-packages (from virtualenv>=20.0.24->ray[tune]<2.4,>=2.3->autogluon.core[raytune]==0.7.1b20230425->autogluon.multimodal) (0.3.6)\n",
      "Requirement already satisfied: platformdirs<3,>=2.4 in /local/home/haoyfang/anaconda3/envs/det116/lib/python3.9/site-packages (from virtualenv>=20.0.24->ray[tune]<2.4,>=2.3->autogluon.core[raytune]==0.7.1b20230425->autogluon.multimodal) (2.6.2)\n",
      "Collecting git+https://github.com/IDEA-Research/GroundingDINO.git\n",
      "  Cloning https://github.com/IDEA-Research/GroundingDINO.git to /tmp/pip-req-build-ze_55bg3\n",
      "  Running command git clone --filter=blob:none --quiet https://github.com/IDEA-Research/GroundingDINO.git /tmp/pip-req-build-ze_55bg3\n",
      "  Resolved https://github.com/IDEA-Research/GroundingDINO.git to commit 498048b1b2b770aca3f98430167dbbf458915c18\n",
      "  Preparing metadata (setup.py) ... \u001b[?25ldone\n",
      "\u001b[?25hRequirement already satisfied: torch in /local/home/haoyfang/anaconda3/envs/det116/lib/python3.9/site-packages (from groundingdino==0.1.0) (1.12.1+cu116)\n",
      "Requirement already satisfied: torchvision in /local/home/haoyfang/anaconda3/envs/det116/lib/python3.9/site-packages (from groundingdino==0.1.0) (0.13.1+cu116)\n",
      "Requirement already satisfied: transformers in /local/home/haoyfang/anaconda3/envs/det116/lib/python3.9/site-packages (from groundingdino==0.1.0) (4.25.1)\n",
      "Requirement already satisfied: addict in /local/home/haoyfang/anaconda3/envs/det116/lib/python3.9/site-packages (from groundingdino==0.1.0) (2.4.0)\n",
      "Requirement already satisfied: yapf in /local/home/haoyfang/anaconda3/envs/det116/lib/python3.9/site-packages (from groundingdino==0.1.0) (0.32.0)\n",
      "Requirement already satisfied: timm in /local/home/haoyfang/anaconda3/envs/det116/lib/python3.9/site-packages (from groundingdino==0.1.0) (0.6.12)\n",
      "Requirement already satisfied: numpy in /local/home/haoyfang/anaconda3/envs/det116/lib/python3.9/site-packages (from groundingdino==0.1.0) (1.22.4)\n",
      "Requirement already satisfied: opencv-python in /local/home/haoyfang/anaconda3/envs/det116/lib/python3.9/site-packages (from groundingdino==0.1.0) (4.7.0.68)\n",
      "Requirement already satisfied: supervision==0.6.0 in /local/home/haoyfang/anaconda3/envs/det116/lib/python3.9/site-packages (from groundingdino==0.1.0) (0.6.0)\n",
      "Requirement already satisfied: pycocotools in /local/home/haoyfang/anaconda3/envs/det116/lib/python3.9/site-packages (from groundingdino==0.1.0) (2.0.6)\n",
      "Requirement already satisfied: matplotlib in /local/home/haoyfang/anaconda3/envs/det116/lib/python3.9/site-packages (from supervision==0.6.0->groundingdino==0.1.0) (3.6.3)\n",
      "Requirement already satisfied: pyyaml in /local/home/haoyfang/anaconda3/envs/det116/lib/python3.9/site-packages (from timm->groundingdino==0.1.0) (6.0)\n",
      "Requirement already satisfied: huggingface-hub in /local/home/haoyfang/anaconda3/envs/det116/lib/python3.9/site-packages (from timm->groundingdino==0.1.0) (0.12.0)\n",
      "Requirement already satisfied: typing-extensions in /local/home/haoyfang/anaconda3/envs/det116/lib/python3.9/site-packages (from torch->groundingdino==0.1.0) (4.4.0)\n",
      "Requirement already satisfied: requests in /local/home/haoyfang/anaconda3/envs/det116/lib/python3.9/site-packages (from torchvision->groundingdino==0.1.0) (2.28.2)\n",
      "Requirement already satisfied: pillow!=8.3.*,>=5.3.0 in /local/home/haoyfang/anaconda3/envs/det116/lib/python3.9/site-packages (from torchvision->groundingdino==0.1.0) (9.4.0)\n",
      "Requirement already satisfied: regex!=2019.12.17 in /local/home/haoyfang/anaconda3/envs/det116/lib/python3.9/site-packages (from transformers->groundingdino==0.1.0) (2022.10.31)\n",
      "Requirement already satisfied: tokenizers!=0.11.3,<0.14,>=0.11.1 in /local/home/haoyfang/anaconda3/envs/det116/lib/python3.9/site-packages (from transformers->groundingdino==0.1.0) (0.13.2)\n",
      "Requirement already satisfied: tqdm>=4.27 in /local/home/haoyfang/anaconda3/envs/det116/lib/python3.9/site-packages (from transformers->groundingdino==0.1.0) (4.64.1)\n",
      "Requirement already satisfied: packaging>=20.0 in /local/home/haoyfang/anaconda3/envs/det116/lib/python3.9/site-packages (from transformers->groundingdino==0.1.0) (23.0)\n",
      "Requirement already satisfied: filelock in /local/home/haoyfang/anaconda3/envs/det116/lib/python3.9/site-packages (from transformers->groundingdino==0.1.0) (3.9.0)\n",
      "Requirement already satisfied: kiwisolver>=1.0.1 in /local/home/haoyfang/anaconda3/envs/det116/lib/python3.9/site-packages (from matplotlib->supervision==0.6.0->groundingdino==0.1.0) (1.4.4)\n",
      "Requirement already satisfied: pyparsing>=2.2.1 in /local/home/haoyfang/anaconda3/envs/det116/lib/python3.9/site-packages (from matplotlib->supervision==0.6.0->groundingdino==0.1.0) (3.0.9)\n",
      "Requirement already satisfied: fonttools>=4.22.0 in /local/home/haoyfang/anaconda3/envs/det116/lib/python3.9/site-packages (from matplotlib->supervision==0.6.0->groundingdino==0.1.0) (4.38.0)\n",
      "Requirement already satisfied: contourpy>=1.0.1 in /local/home/haoyfang/anaconda3/envs/det116/lib/python3.9/site-packages (from matplotlib->supervision==0.6.0->groundingdino==0.1.0) (1.0.7)\n",
      "Requirement already satisfied: python-dateutil>=2.7 in /local/home/haoyfang/anaconda3/envs/det116/lib/python3.9/site-packages (from matplotlib->supervision==0.6.0->groundingdino==0.1.0) (2.8.2)\n",
      "Requirement already satisfied: cycler>=0.10 in /local/home/haoyfang/anaconda3/envs/det116/lib/python3.9/site-packages (from matplotlib->supervision==0.6.0->groundingdino==0.1.0) (0.11.0)\n",
      "Requirement already satisfied: urllib3<1.27,>=1.21.1 in /local/home/haoyfang/anaconda3/envs/det116/lib/python3.9/site-packages (from requests->torchvision->groundingdino==0.1.0) (1.26.14)\n",
      "Requirement already satisfied: idna<4,>=2.5 in /local/home/haoyfang/anaconda3/envs/det116/lib/python3.9/site-packages (from requests->torchvision->groundingdino==0.1.0) (3.4)\n",
      "Requirement already satisfied: certifi>=2017.4.17 in /local/home/haoyfang/anaconda3/envs/det116/lib/python3.9/site-packages (from requests->torchvision->groundingdino==0.1.0) (2022.12.7)\n",
      "Requirement already satisfied: charset-normalizer<4,>=2 in /local/home/haoyfang/anaconda3/envs/det116/lib/python3.9/site-packages (from requests->torchvision->groundingdino==0.1.0) (2.1.1)\n",
      "Requirement already satisfied: six>=1.5 in /local/home/haoyfang/anaconda3/envs/det116/lib/python3.9/site-packages (from python-dateutil>=2.7->matplotlib->supervision==0.6.0->groundingdino==0.1.0) (1.16.0)\n"
     ]
    }
   ],
   "source": [
    "!pip install autogluon.multimodal\n",
    "!pip install git+https://github.com/IDEA-Research/GroundingDINO.git\n"
   ]
  },
  {
   "cell_type": "code",
   "execution_count": 2,
   "id": "6122a63c",
   "metadata": {},
   "outputs": [],
   "source": [
    "from autogluon.multimodal import MultiModalPredictor"
   ]
  },
  {
   "attachments": {},
   "cell_type": "markdown",
   "id": "5481f3b2",
   "metadata": {},
   "source": [
    "## Prepare sample image\n",
    "Let's use an image in Cityscape dataset to demo:"
   ]
  },
  {
   "cell_type": "code",
   "execution_count": null,
   "id": "ff4dd355",
   "metadata": {},
   "outputs": [],
   "source": [
    "from IPython.display import Image, display\n",
    "from autogluon.multimodal import download\n",
    "\n",
    "sample_image_url = \"https://live.staticflickr.com/65535/49004630088_d15a9be500_6k.jpg\"\n",
    "sample_image_path = download(sample_image_url)\n",
    "\n",
    "display(Image(filename=sample_image_path))"
   ]
  },
  {
   "attachments": {},
   "cell_type": "markdown",
   "id": "dfc32ec3",
   "metadata": {},
   "source": [
    "## Creating the MultiModalPredictor\n",
    "We create the MultiModalPredictor and specify the problem_type to `\"open_vocabulary_object_detection\"`.\n",
    "We set the preset as `\"best_quality\"`, which uses a SwinB as backbone. This preset gives us higher accuracy for detection. \n",
    "We also provide presets `\"high_quality\"` and `\"medium_quality\"` with SwinT as backbone, faster but also with lower performance."
   ]
  },
  {
   "cell_type": "code",
   "execution_count": null,
   "id": "228bd148",
   "metadata": {},
   "outputs": [],
   "source": [
    "# Init predictor\n",
    "predictor = MultiModalPredictor(problem_type=\"open_vocabulary_object_detection\", presets = \"best_quality\")"
   ]
  },
  {
   "attachments": {},
   "cell_type": "markdown",
   "id": "1de5ce66",
   "metadata": {},
   "source": [
    "## Inference\n",
    "To run inference on the image, perform:"
   ]
  },
  {
   "cell_type": "code",
   "execution_count": null,
   "id": "8ce6e910",
   "metadata": {},
   "outputs": [],
   "source": [
    "pred = predictor.predict(\n",
    "    {\n",
    "        \"image\": [sample_image_path],\n",
    "        \"prompt\": [\"Pink notice. Green sign. One Way sign. People group. Tower crane in construction. Lamp post. Glass skyscraper.\"],\n",
    "    },\n",
    "    as_pandas=True,\n",
    ")\n",
    "\n",
    "print(pred)"
   ]
  },
  {
   "attachments": {},
   "cell_type": "markdown",
   "id": "aa6df9d9",
   "metadata": {},
   "source": [
    "The output `pred` is a `pandas` `DataFrame` that has two columns, `image` and `bboxes`.\n",
    "\n",
    "In `image`, each row contains the image path\n",
    "\n",
    "In `bboxes`, each row is a list of dictionaries, each one representing the prediction for an object in the image: `{\"class\": <predicted_class_name>, \"bbox\": [x1, y1, x2, y2], \"score\": <confidence_score>}`, for example:"
   ]
  },
  {
   "cell_type": "code",
   "execution_count": null,
   "id": "8b46b979",
   "metadata": {},
   "outputs": [],
   "source": [
    "print(pred[\"bboxes\"][0][0])"
   ]
  },
  {
   "cell_type": "code",
   "execution_count": null,
   "id": "d3c26f03",
   "metadata": {},
   "outputs": [],
   "source": [
    "!pip install opencv-python"
   ]
  },
  {
   "attachments": {},
   "cell_type": "markdown",
   "id": "8221cc2b",
   "metadata": {},
   "source": [
    "To visualize results, run the following:"
   ]
  },
  {
   "cell_type": "code",
   "execution_count": null,
   "id": "3c2c5c04",
   "metadata": {},
   "outputs": [],
   "source": [
    "from autogluon.multimodal.utils import Visualizer\n",
    "\n",
    "conf_threshold = 0.2  # Specify a confidence threshold to filter out unwanted boxes\n",
    "image_result = pred.iloc[0]\n",
    "\n",
    "img_path = image_result.image  # Select an image to visualize\n",
    "\n",
    "visualizer = Visualizer(img_path)  # Initialize the Visualizer\n",
    "out = visualizer.draw_instance_predictions(image_result, conf_threshold=conf_threshold)  # Draw detections\n",
    "visualized = out.get_image()  # Get the visualized image\n",
    "\n",
    "from PIL import Image\n",
    "from IPython.display import display\n",
    "img = Image.fromarray(visualized, 'RGB')\n",
    "display(img)"
   ]
  },
  {
   "cell_type": "markdown",
   "id": "aa58b518",
   "metadata": {},
   "source": [
    "## Other Examples\n",
    "\n",
    "You may go to [AutoMM Examples](https://github.com/autogluon/autogluon/tree/master/examples/automm) to explore other examples about AutoMM.\n",
    "\n",
    "## Customization\n",
    "To learn how to customize AutoMM, please refer to [Customize AutoMM](../../advanced_topics/customization.ipynb).\n",
    "\n",
    "## Citation"
   ]
  },
  {
   "attachments": {},
   "cell_type": "markdown",
   "id": "0c8dfcc8",
   "metadata": {},
   "source": [
    "```\n",
    "@misc{liu2023grounding,\n",
    "      title={Grounding DINO: Marrying DINO with Grounded Pre-Training for Open-Set Object Detection}, \n",
    "      author={Shilong Liu and Zhaoyang Zeng and Tianhe Ren and Feng Li and Hao Zhang and Jie Yang and Chunyuan Li and Jianwei Yang and Hang Su and Jun Zhu and Lei Zhang},\n",
    "      year={2023},\n",
    "      eprint={2303.05499},\n",
    "      archivePrefix={arXiv},\n",
    "      primaryClass={cs.CV}\n",
    "}\n",
    "```\n"
   ]
  }
 ],
 "metadata": {
  "kernelspec": {
   "display_name": "det116",
   "language": "python",
   "name": "python3"
  },
  "language_info": {
   "codemirror_mode": {
    "name": "ipython",
    "version": 3
   },
   "file_extension": ".py",
   "mimetype": "text/x-python",
   "name": "python",
   "nbconvert_exporter": "python",
   "pygments_lexer": "ipython3",
   "version": "3.9.16"
  },
  "vscode": {
   "interpreter": {
    "hash": "0c3764fa02e1f76b12dc0a2359f5229c043b8e8c53abd2abaacd8712f272c448"
   }
  }
 },
 "nbformat": 4,
 "nbformat_minor": 5
}
